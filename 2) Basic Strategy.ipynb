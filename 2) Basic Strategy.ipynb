{
 "cells": [
  {
   "cell_type": "code",
   "execution_count": 1,
   "metadata": {},
   "outputs": [],
   "source": [
    "import pandas as pd\n",
    "import ta\n",
    "from resources import perform_grid_search, perform_backtest\n",
    "import warnings\n",
    "warnings.filterwarnings('ignore')\n"
   ]
  },
  {
   "cell_type": "code",
   "execution_count": 2,
   "metadata": {},
   "outputs": [],
   "source": [
    "def get_training(df, row):\n",
    "    return df[(df['timestamp'] >= row['4_days_before_start']) & (df['timestamp'] < row['start'])]"
   ]
  },
  {
   "cell_type": "code",
   "execution_count": 3,
   "metadata": {},
   "outputs": [],
   "source": [
    "def get_test(df, row):\n",
    "    return df[(df['timestamp'] >= row['start']) & (df['timestamp'] < row['end'])]"
   ]
  },
  {
   "cell_type": "code",
   "execution_count": 4,
   "metadata": {},
   "outputs": [],
   "source": [
    "groups = pd.read_csv('groups.csv')"
   ]
  },
  {
   "cell_type": "code",
   "execution_count": 5,
   "metadata": {},
   "outputs": [],
   "source": [
    "groups['start'] = pd.to_datetime(groups['start'])\n",
    "groups['end'] = pd.to_datetime(groups['end'])"
   ]
  },
  {
   "cell_type": "code",
   "execution_count": 6,
   "metadata": {},
   "outputs": [],
   "source": [
    "groups['4_days_before_start'] = groups['start'] - pd.Timedelta(days=4)"
   ]
  },
  {
   "cell_type": "code",
   "execution_count": 7,
   "metadata": {},
   "outputs": [],
   "source": [
    "df = pd.read_csv('features.csv')\n",
    "df['timestamp'] = pd.to_datetime(df['timestamp'])\n",
    "df = df[['timestamp', 'open', 'high', 'low', 'close', 'volume', 'percentage_large', 'buy_percentage_large']]"
   ]
  },
  {
   "cell_type": "code",
   "execution_count": 8,
   "metadata": {},
   "outputs": [],
   "source": [
    "df = df.fillna(method='ffill').fillna(method='bfill')"
   ]
  },
  {
   "cell_type": "code",
   "execution_count": 9,
   "metadata": {},
   "outputs": [
    {
     "data": {
      "text/html": [
       "<div>\n",
       "<style scoped>\n",
       "    .dataframe tbody tr th:only-of-type {\n",
       "        vertical-align: middle;\n",
       "    }\n",
       "\n",
       "    .dataframe tbody tr th {\n",
       "        vertical-align: top;\n",
       "    }\n",
       "\n",
       "    .dataframe thead th {\n",
       "        text-align: right;\n",
       "    }\n",
       "</style>\n",
       "<table border=\"1\" class=\"dataframe\">\n",
       "  <thead>\n",
       "    <tr style=\"text-align: right;\">\n",
       "      <th></th>\n",
       "      <th>start</th>\n",
       "      <th>end</th>\n",
       "      <th>name</th>\n",
       "      <th>4_days_before_start</th>\n",
       "    </tr>\n",
       "  </thead>\n",
       "  <tbody>\n",
       "    <tr>\n",
       "      <th>0</th>\n",
       "      <td>2020-02-28</td>\n",
       "      <td>2020-03-23</td>\n",
       "      <td>corona_dump</td>\n",
       "      <td>2020-02-24</td>\n",
       "    </tr>\n",
       "    <tr>\n",
       "      <th>1</th>\n",
       "      <td>2020-03-23</td>\n",
       "      <td>2020-04-24</td>\n",
       "      <td>corona_recovery</td>\n",
       "      <td>2020-03-19</td>\n",
       "    </tr>\n",
       "    <tr>\n",
       "      <th>2</th>\n",
       "      <td>2020-04-29</td>\n",
       "      <td>2020-05-15</td>\n",
       "      <td>further_recovery</td>\n",
       "      <td>2020-04-25</td>\n",
       "    </tr>\n",
       "    <tr>\n",
       "      <th>3</th>\n",
       "      <td>2020-05-15</td>\n",
       "      <td>2020-06-04</td>\n",
       "      <td>9k_accumulation</td>\n",
       "      <td>2020-05-11</td>\n",
       "    </tr>\n",
       "    <tr>\n",
       "      <th>4</th>\n",
       "      <td>2020-06-06</td>\n",
       "      <td>2020-06-28</td>\n",
       "      <td>further_9k_accumulation</td>\n",
       "      <td>2020-06-02</td>\n",
       "    </tr>\n",
       "    <tr>\n",
       "      <th>5</th>\n",
       "      <td>2020-07-01</td>\n",
       "      <td>2020-07-24</td>\n",
       "      <td>final_9k_accumulation</td>\n",
       "      <td>2020-06-27</td>\n",
       "    </tr>\n",
       "    <tr>\n",
       "      <th>6</th>\n",
       "      <td>2020-07-24</td>\n",
       "      <td>2020-08-14</td>\n",
       "      <td>initial_takeoff</td>\n",
       "      <td>2020-07-20</td>\n",
       "    </tr>\n",
       "    <tr>\n",
       "      <th>7</th>\n",
       "      <td>2020-08-14</td>\n",
       "      <td>2020-09-03</td>\n",
       "      <td>12k_dump</td>\n",
       "      <td>2020-08-10</td>\n",
       "    </tr>\n",
       "    <tr>\n",
       "      <th>8</th>\n",
       "      <td>2020-09-03</td>\n",
       "      <td>2020-09-16</td>\n",
       "      <td>10k_accumulation</td>\n",
       "      <td>2020-08-30</td>\n",
       "    </tr>\n",
       "    <tr>\n",
       "      <th>9</th>\n",
       "      <td>2020-09-16</td>\n",
       "      <td>2020-10-11</td>\n",
       "      <td>10k_accumulation_2</td>\n",
       "      <td>2020-09-12</td>\n",
       "    </tr>\n",
       "    <tr>\n",
       "      <th>10</th>\n",
       "      <td>2020-10-11</td>\n",
       "      <td>2020-11-27</td>\n",
       "      <td>lift_off</td>\n",
       "      <td>2020-10-07</td>\n",
       "    </tr>\n",
       "  </tbody>\n",
       "</table>\n",
       "</div>"
      ],
      "text/plain": [
       "        start        end                     name 4_days_before_start\n",
       "0  2020-02-28 2020-03-23              corona_dump          2020-02-24\n",
       "1  2020-03-23 2020-04-24          corona_recovery          2020-03-19\n",
       "2  2020-04-29 2020-05-15         further_recovery          2020-04-25\n",
       "3  2020-05-15 2020-06-04          9k_accumulation          2020-05-11\n",
       "4  2020-06-06 2020-06-28  further_9k_accumulation          2020-06-02\n",
       "5  2020-07-01 2020-07-24    final_9k_accumulation          2020-06-27\n",
       "6  2020-07-24 2020-08-14          initial_takeoff          2020-07-20\n",
       "7  2020-08-14 2020-09-03                 12k_dump          2020-08-10\n",
       "8  2020-09-03 2020-09-16         10k_accumulation          2020-08-30\n",
       "9  2020-09-16 2020-10-11       10k_accumulation_2          2020-09-12\n",
       "10 2020-10-11 2020-11-27                 lift_off          2020-10-07"
      ]
     },
     "execution_count": 9,
     "metadata": {},
     "output_type": "execute_result"
    }
   ],
   "source": [
    "groups"
   ]
  },
  {
   "cell_type": "code",
   "execution_count": 10,
   "metadata": {},
   "outputs": [],
   "source": [
    "#NUMBER 0#"
   ]
  },
  {
   "cell_type": "code",
   "execution_count": 11,
   "metadata": {
    "scrolled": true
   },
   "outputs": [],
   "source": [
    "new_group = pd.DataFrame()\n",
    "\n",
    "for idx, row in groups.iterrows():\n",
    "    row['4_days_before_start_price'] = df[df['timestamp'] == row['4_days_before_start']].iloc[0]['close']\n",
    "    row['start_price'] = df[df['timestamp'] == row['start']].iloc[0]['close']\n",
    "    row['creation_change'] = (row['start_price'] - row['4_days_before_start_price'])/row['4_days_before_start_price'] * 100\n",
    "    \n",
    "    row['end_price'] = df[df['timestamp'] == row['end']].iloc[0]['close']\n",
    "    row['hodl_return'] = (row['end_price'] - row['start_price'])/row['start_price'] * 100\n",
    "    \n",
    "    new_group = new_group.append(row, ignore_index=True)"
   ]
  },
  {
   "cell_type": "code",
   "execution_count": 12,
   "metadata": {},
   "outputs": [],
   "source": [
    "new_group = new_group[['name', '4_days_before_start', '4_days_before_start_price', 'start', 'start_price', 'creation_change', 'end' ,'end_price', 'hodl_return']]"
   ]
  },
  {
   "cell_type": "code",
   "execution_count": 13,
   "metadata": {},
   "outputs": [],
   "source": [
    "def long_or_short(x):\n",
    "    if x < 0:\n",
    "        return \"SHORT\"\n",
    "    if x > 0:\n",
    "        return \"LONG\""
   ]
  },
  {
   "cell_type": "code",
   "execution_count": 14,
   "metadata": {},
   "outputs": [],
   "source": [
    "new_group['trade_direction'] = new_group['creation_change'].apply(long_or_short)"
   ]
  },
  {
   "cell_type": "code",
   "execution_count": 15,
   "metadata": {},
   "outputs": [
    {
     "data": {
      "text/html": [
       "<div>\n",
       "<style scoped>\n",
       "    .dataframe tbody tr th:only-of-type {\n",
       "        vertical-align: middle;\n",
       "    }\n",
       "\n",
       "    .dataframe tbody tr th {\n",
       "        vertical-align: top;\n",
       "    }\n",
       "\n",
       "    .dataframe thead th {\n",
       "        text-align: right;\n",
       "    }\n",
       "</style>\n",
       "<table border=\"1\" class=\"dataframe\">\n",
       "  <thead>\n",
       "    <tr style=\"text-align: right;\">\n",
       "      <th></th>\n",
       "      <th>name</th>\n",
       "      <th>4_days_before_start</th>\n",
       "      <th>4_days_before_start_price</th>\n",
       "      <th>start</th>\n",
       "      <th>start_price</th>\n",
       "      <th>creation_change</th>\n",
       "      <th>end</th>\n",
       "      <th>end_price</th>\n",
       "      <th>hodl_return</th>\n",
       "      <th>trade_direction</th>\n",
       "    </tr>\n",
       "  </thead>\n",
       "  <tbody>\n",
       "    <tr>\n",
       "      <th>0</th>\n",
       "      <td>corona_dump</td>\n",
       "      <td>2020-02-24</td>\n",
       "      <td>9970.089731</td>\n",
       "      <td>2020-02-28</td>\n",
       "      <td>8801.267383</td>\n",
       "      <td>-11.723288</td>\n",
       "      <td>2020-03-23</td>\n",
       "      <td>5867.999939</td>\n",
       "      <td>-33.327785</td>\n",
       "      <td>SHORT</td>\n",
       "    </tr>\n",
       "    <tr>\n",
       "      <th>1</th>\n",
       "      <td>corona_recovery</td>\n",
       "      <td>2020-03-19</td>\n",
       "      <td>5448.997503</td>\n",
       "      <td>2020-03-23</td>\n",
       "      <td>5867.999939</td>\n",
       "      <td>7.689533</td>\n",
       "      <td>2020-04-24</td>\n",
       "      <td>7506.943923</td>\n",
       "      <td>27.930198</td>\n",
       "      <td>LONG</td>\n",
       "    </tr>\n",
       "    <tr>\n",
       "      <th>2</th>\n",
       "      <td>further_recovery</td>\n",
       "      <td>2020-04-25</td>\n",
       "      <td>7491.197843</td>\n",
       "      <td>2020-04-29</td>\n",
       "      <td>7762.769756</td>\n",
       "      <td>3.625213</td>\n",
       "      <td>2020-05-15</td>\n",
       "      <td>9773.260360</td>\n",
       "      <td>25.899140</td>\n",
       "      <td>LONG</td>\n",
       "    </tr>\n",
       "    <tr>\n",
       "      <th>3</th>\n",
       "      <td>9k_accumulation</td>\n",
       "      <td>2020-05-11</td>\n",
       "      <td>8756.567426</td>\n",
       "      <td>2020-05-15</td>\n",
       "      <td>9773.260360</td>\n",
       "      <td>11.610633</td>\n",
       "      <td>2020-06-04</td>\n",
       "      <td>9645.992090</td>\n",
       "      <td>-1.302209</td>\n",
       "      <td>LONG</td>\n",
       "    </tr>\n",
       "    <tr>\n",
       "      <th>4</th>\n",
       "      <td>further_9k_accumulation</td>\n",
       "      <td>2020-06-02</td>\n",
       "      <td>10214.504597</td>\n",
       "      <td>2020-06-06</td>\n",
       "      <td>9573.956284</td>\n",
       "      <td>-6.270968</td>\n",
       "      <td>2020-06-28</td>\n",
       "      <td>8992.805755</td>\n",
       "      <td>-6.070119</td>\n",
       "      <td>SHORT</td>\n",
       "    </tr>\n",
       "    <tr>\n",
       "      <th>5</th>\n",
       "      <td>final_9k_accumulation</td>\n",
       "      <td>2020-06-27</td>\n",
       "      <td>9131.586157</td>\n",
       "      <td>2020-07-01</td>\n",
       "      <td>9119.094887</td>\n",
       "      <td>-0.136792</td>\n",
       "      <td>2020-07-24</td>\n",
       "      <td>9607.996755</td>\n",
       "      <td>5.361298</td>\n",
       "      <td>SHORT</td>\n",
       "    </tr>\n",
       "    <tr>\n",
       "      <th>6</th>\n",
       "      <td>initial_takeoff</td>\n",
       "      <td>2020-07-20</td>\n",
       "      <td>9222.539887</td>\n",
       "      <td>2020-07-24</td>\n",
       "      <td>9607.996755</td>\n",
       "      <td>4.179509</td>\n",
       "      <td>2020-08-14</td>\n",
       "      <td>11837.120091</td>\n",
       "      <td>23.200709</td>\n",
       "      <td>LONG</td>\n",
       "    </tr>\n",
       "    <tr>\n",
       "      <th>7</th>\n",
       "      <td>12k_dump</td>\n",
       "      <td>2020-08-10</td>\n",
       "      <td>11720.581341</td>\n",
       "      <td>2020-08-14</td>\n",
       "      <td>11837.120091</td>\n",
       "      <td>0.994309</td>\n",
       "      <td>2020-09-03</td>\n",
       "      <td>11394.712660</td>\n",
       "      <td>-3.737458</td>\n",
       "      <td>LONG</td>\n",
       "    </tr>\n",
       "    <tr>\n",
       "      <th>8</th>\n",
       "      <td>10k_accumulation</td>\n",
       "      <td>2020-08-30</td>\n",
       "      <td>11488.970588</td>\n",
       "      <td>2020-09-03</td>\n",
       "      <td>11394.712660</td>\n",
       "      <td>-0.820421</td>\n",
       "      <td>2020-09-16</td>\n",
       "      <td>10745.756119</td>\n",
       "      <td>-5.695243</td>\n",
       "      <td>SHORT</td>\n",
       "    </tr>\n",
       "    <tr>\n",
       "      <th>9</th>\n",
       "      <td>10k_accumulation_2</td>\n",
       "      <td>2020-09-12</td>\n",
       "      <td>10380.983242</td>\n",
       "      <td>2020-09-16</td>\n",
       "      <td>10745.756119</td>\n",
       "      <td>3.513857</td>\n",
       "      <td>2020-10-11</td>\n",
       "      <td>11309.658448</td>\n",
       "      <td>5.247675</td>\n",
       "      <td>LONG</td>\n",
       "    </tr>\n",
       "    <tr>\n",
       "      <th>10</th>\n",
       "      <td>lift_off</td>\n",
       "      <td>2020-10-07</td>\n",
       "      <td>10585.371017</td>\n",
       "      <td>2020-10-11</td>\n",
       "      <td>11309.658448</td>\n",
       "      <td>6.842343</td>\n",
       "      <td>2020-11-27</td>\n",
       "      <td>17135.023989</td>\n",
       "      <td>51.507882</td>\n",
       "      <td>LONG</td>\n",
       "    </tr>\n",
       "  </tbody>\n",
       "</table>\n",
       "</div>"
      ],
      "text/plain": [
       "                       name 4_days_before_start  4_days_before_start_price  \\\n",
       "0               corona_dump          2020-02-24                9970.089731   \n",
       "1           corona_recovery          2020-03-19                5448.997503   \n",
       "2          further_recovery          2020-04-25                7491.197843   \n",
       "3           9k_accumulation          2020-05-11                8756.567426   \n",
       "4   further_9k_accumulation          2020-06-02               10214.504597   \n",
       "5     final_9k_accumulation          2020-06-27                9131.586157   \n",
       "6           initial_takeoff          2020-07-20                9222.539887   \n",
       "7                  12k_dump          2020-08-10               11720.581341   \n",
       "8          10k_accumulation          2020-08-30               11488.970588   \n",
       "9        10k_accumulation_2          2020-09-12               10380.983242   \n",
       "10                 lift_off          2020-10-07               10585.371017   \n",
       "\n",
       "        start   start_price  creation_change        end     end_price  \\\n",
       "0  2020-02-28   8801.267383       -11.723288 2020-03-23   5867.999939   \n",
       "1  2020-03-23   5867.999939         7.689533 2020-04-24   7506.943923   \n",
       "2  2020-04-29   7762.769756         3.625213 2020-05-15   9773.260360   \n",
       "3  2020-05-15   9773.260360        11.610633 2020-06-04   9645.992090   \n",
       "4  2020-06-06   9573.956284        -6.270968 2020-06-28   8992.805755   \n",
       "5  2020-07-01   9119.094887        -0.136792 2020-07-24   9607.996755   \n",
       "6  2020-07-24   9607.996755         4.179509 2020-08-14  11837.120091   \n",
       "7  2020-08-14  11837.120091         0.994309 2020-09-03  11394.712660   \n",
       "8  2020-09-03  11394.712660        -0.820421 2020-09-16  10745.756119   \n",
       "9  2020-09-16  10745.756119         3.513857 2020-10-11  11309.658448   \n",
       "10 2020-10-11  11309.658448         6.842343 2020-11-27  17135.023989   \n",
       "\n",
       "    hodl_return trade_direction  \n",
       "0    -33.327785           SHORT  \n",
       "1     27.930198            LONG  \n",
       "2     25.899140            LONG  \n",
       "3     -1.302209            LONG  \n",
       "4     -6.070119           SHORT  \n",
       "5      5.361298           SHORT  \n",
       "6     23.200709            LONG  \n",
       "7     -3.737458            LONG  \n",
       "8     -5.695243           SHORT  \n",
       "9      5.247675            LONG  \n",
       "10    51.507882            LONG  "
      ]
     },
     "execution_count": 15,
     "metadata": {},
     "output_type": "execute_result"
    }
   ],
   "source": [
    "new_group"
   ]
  },
  {
   "cell_type": "code",
   "execution_count": 14,
   "metadata": {},
   "outputs": [],
   "source": [
    "#create long term trends of buy, sell"
   ]
  },
  {
   "cell_type": "code",
   "execution_count": 20,
   "metadata": {},
   "outputs": [],
   "source": [
    "def get_strategy_return(ser):\n",
    "    if ser['trade_direction'] == 'LONG':\n",
    "        return ser['hodl_return']\n",
    "    elif ser['trade_direction'] == 'SHORT':\n",
    "        return ser['hodl_return'] * -1"
   ]
  },
  {
   "cell_type": "code",
   "execution_count": 22,
   "metadata": {},
   "outputs": [],
   "source": [
    "new_group['strategy_return'] = new_group.apply(get_strategy_return, axis=1)"
   ]
  },
  {
   "cell_type": "code",
   "execution_count": 40,
   "metadata": {},
   "outputs": [],
   "source": [
    "new_group = new_group.round(2)"
   ]
  },
  {
   "cell_type": "code",
   "execution_count": 41,
   "metadata": {},
   "outputs": [],
   "source": [
    "new_group.to_csv('test_1.csv', index=None)"
   ]
  },
  {
   "cell_type": "code",
   "execution_count": 31,
   "metadata": {},
   "outputs": [],
   "source": [
    "starting = 1000\n",
    "vals = 1+new_group['hodl_return'].values/100\n",
    "\n",
    "for x in vals:\n",
    "    starting = starting * x"
   ]
  },
  {
   "cell_type": "code",
   "execution_count": 33,
   "metadata": {},
   "outputs": [
    {
     "data": {
      "text/plain": [
       "1870.6171326122212"
      ]
     },
     "execution_count": 33,
     "metadata": {},
     "output_type": "execute_result"
    }
   ],
   "source": [
    "starting"
   ]
  },
  {
   "cell_type": "code",
   "execution_count": 34,
   "metadata": {},
   "outputs": [],
   "source": [
    "starting = 1000\n",
    "vals = 1+new_group['strategy_return'].values/100\n",
    "\n",
    "for x in vals:\n",
    "    starting = starting * x"
   ]
  },
  {
   "cell_type": "code",
   "execution_count": 35,
   "metadata": {},
   "outputs": [
    {
     "data": {
      "text/plain": [
       "4252.648306901988"
      ]
     },
     "execution_count": 35,
     "metadata": {},
     "output_type": "execute_result"
    }
   ],
   "source": [
    "starting"
   ]
  }
 ],
 "metadata": {
  "kernelspec": {
   "display_name": "Python 3.8.2 64-bit",
   "language": "python",
   "name": "python38264bit5e026c37115b47dab948fc9d59355aca"
  },
  "language_info": {
   "codemirror_mode": {
    "name": "ipython",
    "version": 3
   },
   "file_extension": ".py",
   "mimetype": "text/x-python",
   "name": "python",
   "nbconvert_exporter": "python",
   "pygments_lexer": "ipython3",
   "version": "3.8.5"
  }
 },
 "nbformat": 4,
 "nbformat_minor": 4
}
